{
 "cells": [
  {
   "cell_type": "code",
   "execution_count": 3,
   "metadata": {},
   "outputs": [],
   "source": [
    "# initial probabilities\n",
    "p_s=0.6\n",
    "p_r=0.4\n",
    "\n",
    "#transitional probabilities\n",
    "p_s_s=0.8\n",
    "p_s_r=0.2\n",
    "p_r_s=0.4\n",
    "p_r_r=0.6\n",
    "\n",
    "# observation probabilities\n",
    "p_s_h=0.8\n",
    "p_s_g=0.2\n",
    "p_r_h=0.4\n",
    "p_r_g=0.6\n"
   ]
  },
  {
   "cell_type": "code",
   "execution_count": 8,
   "metadata": {},
   "outputs": [],
   "source": [
    "# sequence example\n",
    "moods=['G','G','H','H','H','H','G']\n",
    "probabilities=[]\n",
    "weather=[]"
   ]
  },
  {
   "cell_type": "code",
   "execution_count": 9,
   "metadata": {},
   "outputs": [],
   "source": [
    "if moods[0]=='H':\n",
    "    probabilities.append((p_s*p_s_h , p_r*p_r_h))\n",
    "else:\n",
    "    probabilities.append((p_s*p_s_g , p_r*p_r_g))\n",
    "\n",
    "for i in range(1,len(moods)):\n",
    "    yesterday_sunny ,yesterday_raniy=probabilities[-1]\n",
    "    if moods[i]=='H':\n",
    "        today_sunny=max(yesterday_sunny*p_s_s*p_s_h, yesterday_raniy*p_r_s*p_s_h)\n",
    "        today_raniy=max(yesterday_sunny*p_s_r*p_r_h , yesterday_raniy*p_r_r*p_r_h)\n",
    "        probabilities.append((today_sunny,today_raniy))\n",
    "    else:\n",
    "        today_sunny=max(yesterday_sunny*p_s_s*p_s_g, yesterday_raniy*p_r_s*p_s_g)\n",
    "        today_raniy=max(yesterday_sunny*p_s_r*p_r_g , yesterday_raniy*p_r_r*p_r_g)\n",
    "        probabilities.append((today_sunny,today_raniy))\n"
   ]
  },
  {
   "cell_type": "code",
   "execution_count": 10,
   "metadata": {},
   "outputs": [],
   "source": [
    "for p in probabilities:\n",
    "    if p[0]> p[1]:\n",
    "        weather.append('S')\n",
    "    else:\n",
    "        weather.append('R')"
   ]
  },
  {
   "cell_type": "code",
   "execution_count": 11,
   "metadata": {},
   "outputs": [
    {
     "name": "stdout",
     "output_type": "stream",
     "text": [
      "Weathar sequence is: ['R', 'R', 'S', 'S', 'S', 'S', 'S']\n"
     ]
    }
   ],
   "source": [
    "print(\"Weathar sequence is:\", weather)"
   ]
  }
 ],
 "metadata": {
  "interpreter": {
   "hash": "91bb753b057673435fb8d6f6a083e6c818364728098c7ae050ca3a25357dd754"
  },
  "kernelspec": {
   "display_name": "Python 3.9.7 ('base')",
   "language": "python",
   "name": "python3"
  },
  "language_info": {
   "codemirror_mode": {
    "name": "ipython",
    "version": 3
   },
   "file_extension": ".py",
   "mimetype": "text/x-python",
   "name": "python",
   "nbconvert_exporter": "python",
   "pygments_lexer": "ipython3",
   "version": "3.9.7"
  },
  "orig_nbformat": 4
 },
 "nbformat": 4,
 "nbformat_minor": 2
}
