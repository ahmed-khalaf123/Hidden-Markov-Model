{
 "cells": [
  {
   "cell_type": "code",
   "execution_count": 6,
   "metadata": {},
   "outputs": [],
   "source": [
    "# initial probabilities\n",
    "p_h=1\n",
    "p_a=0\n",
    "#transitional probabilities\n",
    "p_h_h=0.8\n",
    "p_h_a=0.2\n",
    "p_a_a=0.8\n",
    "p_a_h=0.2\n",
    "# emotional probabilities\n",
    "p_h_s=0.5\n",
    "p_h_f=0.1\n",
    "p_h_l=0.2\n",
    "p_h_y=0.2\n",
    "p_a_s=0.2\n",
    "p_a_f=0.5\n",
    "p_a_l=0.2\n",
    "p_a_y=0.2\n"
   ]
  },
  {
   "cell_type": "code",
   "execution_count": 7,
   "metadata": {},
   "outputs": [],
   "source": [
    "# sequence example\n",
    "moods=['F','F','F','F','F']\n",
    "probabilities=[]\n",
    "statas=[]"
   ]
  },
  {
   "cell_type": "code",
   "execution_count": 8,
   "metadata": {},
   "outputs": [],
   "source": [
    "if moods[0]=='S':\n",
    "    probabilities.append((p_h*p_h_s , p_a*p_a_s))\n",
    "elif moods[0]=='F':\n",
    "    probabilities.append((p_h*p_h_f , p_a*p_a_f))\n",
    "elif moods[0]=='L':\n",
    "    probabilities.append((p_h*p_h_l , p_a*p_a_l))\n",
    "else:\n",
    "    probabilities.append((p_h*p_h_y , p_a*p_a_y))\n",
    "for i in range(1,len(moods)):\n",
    "    yesterday_happy ,yesterday_angry=probabilities[-1]\n",
    "    if moods[i]=='S':\n",
    "        today_happy=max(yesterday_happy*p_h_h*p_h_s, yesterday_angry*p_a_h*p_h_s)\n",
    "        today_angry=max(yesterday_happy*p_h_a*p_a_s , yesterday_angry*p_a_a*p_a_s)\n",
    "        probabilities.append((today_happy,today_angry))\n",
    "    elif moods[i]=='F':\n",
    "        today_happy=max(yesterday_happy*p_h_h*p_h_f, yesterday_angry*p_a_h*p_h_f)\n",
    "        today_angry=max(yesterday_happy*p_h_a*p_a_f , yesterday_angry*p_a_a*p_a_f)\n",
    "        probabilities.append((today_happy,today_angry))\n",
    "    elif moods[i]=='L':\n",
    "        today_happy=max(yesterday_happy*p_h_h*p_h_l, yesterday_angry*p_a_h*p_h_l)\n",
    "        today_angry=max(yesterday_happy*p_h_a*p_a_l , yesterday_angry*p_a_a*p_a_l)\n",
    "        probabilities.append((today_happy,today_angry))\n",
    "    else:\n",
    "        today_happy=max(yesterday_happy*p_h_h*p_h_y, yesterday_angry*p_a_h*p_h_y)\n",
    "        today_angry=max(yesterday_happy*p_h_a*p_a_y , yesterday_angry*p_a_a*p_a_y)\n",
    "        probabilities.append((today_happy,today_angry))\n",
    "       "
   ]
  },
  {
   "cell_type": "code",
   "execution_count": 9,
   "metadata": {},
   "outputs": [],
   "source": [
    "for p in probabilities:\n",
    "    if p[0]> p[1]:\n",
    "        statas.append('Happy')\n",
    "    else:\n",
    "        statas.append('Angry')"
   ]
  },
  {
   "cell_type": "code",
   "execution_count": 10,
   "metadata": {},
   "outputs": [
    {
     "name": "stdout",
     "output_type": "stream",
     "text": [
      "Statas sequence is: ['Happy', 'Angry', 'Angry', 'Angry', 'Angry']\n"
     ]
    }
   ],
   "source": [
    "print(\"Statas sequence is:\", statas)"
   ]
  }
 ],
 "metadata": {
  "interpreter": {
   "hash": "91bb753b057673435fb8d6f6a083e6c818364728098c7ae050ca3a25357dd754"
  },
  "kernelspec": {
   "display_name": "Python 3.9.7 ('base')",
   "language": "python",
   "name": "python3"
  },
  "language_info": {
   "codemirror_mode": {
    "name": "ipython",
    "version": 3
   },
   "file_extension": ".py",
   "mimetype": "text/x-python",
   "name": "python",
   "nbconvert_exporter": "python",
   "pygments_lexer": "ipython3",
   "version": "3.9.7"
  },
  "orig_nbformat": 4
 },
 "nbformat": 4,
 "nbformat_minor": 2
}
